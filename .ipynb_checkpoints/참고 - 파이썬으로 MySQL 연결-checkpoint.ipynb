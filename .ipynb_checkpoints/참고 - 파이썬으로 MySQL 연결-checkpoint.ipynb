{
 "cells": [
  {
   "cell_type": "markdown",
   "metadata": {
    "id": "b3TDAdnvnSbh"
   },
   "source": [
    "<center><img src='https://raw.githubusercontent.com/Jangrae/img/master/title.png' width=500/></center>\n"
   ]
  },
  {
   "cell_type": "markdown",
   "metadata": {
    "id": "DFijIAllYnVQ"
   },
   "source": [
    "# 학습 목표\n",
    "\n",
    "- MySQL에 연결하여 데이터를 가져올 수 있습니다."
   ]
  },
  {
   "cell_type": "markdown",
   "metadata": {
    "id": "BTOPP7O_xdGa"
   },
   "source": [
    "### 1.라이브러리 설치\n",
    "\n",
    "- MySQL 연결을 위해 pymysql 라이브러리를 설치합니다."
   ]
  },
  {
   "cell_type": "code",
   "execution_count": 4,
   "metadata": {
    "colab": {
     "base_uri": "https://localhost:8080/"
    },
    "executionInfo": {
     "elapsed": 3372,
     "status": "ok",
     "timestamp": 1629085537855,
     "user": {
      "displayName": "Jangrae Lee",
      "photoUrl": "https://lh3.googleusercontent.com/a-/AOh14Gh1Pd8OuWJU2cv7uTt-fURrgvty7atx_Wtarmx0-A=s64",
      "userId": "08475661575434032088"
     },
     "user_tz": -540
    },
    "id": "TgUDVbkbvDk_",
    "outputId": "4f1b6fca-de9a-4d64-c1d2-72ff0f8601d9"
   },
   "outputs": [
    {
     "name": "stdout",
     "output_type": "stream",
     "text": [
      "Requirement already satisfied: pymysql in c:\\users\\user\\anaconda3\\lib\\site-packages (1.1.1)\n"
     ]
    }
   ],
   "source": [
    "!pip install pymysql "
   ]
  },
  {
   "cell_type": "markdown",
   "metadata": {
    "id": "P4S4FhyPEoP1"
   },
   "source": [
    "- 암호화 모듈을 설치한 후 런타임을 재시작합니다.(아나콘다의 경우 설치 불필요) 코랩에서 실행시 필요"
   ]
  },
  {
   "cell_type": "code",
   "execution_count": 6,
   "metadata": {
    "colab": {
     "base_uri": "https://localhost:8080/"
    },
    "executionInfo": {
     "elapsed": 4769,
     "status": "ok",
     "timestamp": 1629085752788,
     "user": {
      "displayName": "Jangrae Lee",
      "photoUrl": "https://lh3.googleusercontent.com/a-/AOh14Gh1Pd8OuWJU2cv7uTt-fURrgvty7atx_Wtarmx0-A=s64",
      "userId": "08475661575434032088"
     },
     "user_tz": -540
    },
    "id": "33e_oy93Efq1",
    "outputId": "64aee4ad-f630-4f1a-8264-3d26dcdadf67"
   },
   "outputs": [],
   "source": [
    "# !pip install cryptography"
   ]
  },
  {
   "cell_type": "markdown",
   "metadata": {
    "id": "VdVM44cdvDlS"
   },
   "source": [
    "### 2.라이브러리 불러오기\n",
    "\n",
    "- 사용할 라이브러리를 불러옵니다."
   ]
  },
  {
   "cell_type": "code",
   "execution_count": 8,
   "metadata": {
    "id": "nAk3N3t7vDlS"
   },
   "outputs": [],
   "source": [
    "# 라이브러리 불러오기\n",
    "import pymysql\n",
    "import pandas as pd\n",
    "from sqlalchemy import create_engine"
   ]
  },
  {
   "cell_type": "markdown",
   "metadata": {
    "id": "9L3buLsalxCU"
   },
   "source": [
    "### 3.MySQL 연결\n",
    "\n",
    "\n",
    "- 연결 관련 정보를 지정하여 MySQL에 연결합니다.\n",
    "- 관련 정보와 권한을 얻기 위해서 서버 관리자의 협조가 필요할 수 있습니다."
   ]
  },
  {
   "cell_type": "code",
   "execution_count": 10,
   "metadata": {
    "id": "RXmV9Zf8vDlT"
   },
   "outputs": [],
   "source": [
    "# MySQL 연결\n",
    "user = 'root'\n",
    "password = 'aivle'\n",
    "host = '127.0.0.1'\n",
    "database = 'myshop2024'\n",
    "\n",
    "connect_string = f'mysql+pymysql://{user}:{password}@{host}/{database}'\n",
    "mysql = create_engine(connect_string)"
   ]
  },
  {
   "cell_type": "markdown",
   "metadata": {
    "id": "_LC8ubjwluTA"
   },
   "source": [
    "### 4.데이터 읽어오기\n",
    "\n",
    "- 데이터를 조회할 쿼리문을 작성합니다.(쿼리문 학습 필요)\n",
    "- read_sql 함수를 사용해서 쿼리를 실행해 그 결과를 가져옵니다.\n",
    "- 가져온 결과는 자동으로 데이터프레임이 됩니다."
   ]
  },
  {
   "cell_type": "markdown",
   "metadata": {},
   "source": [
    "**예제1) 조건에 맞는 데이터 가져오기**"
   ]
  },
  {
   "cell_type": "code",
   "execution_count": 13,
   "metadata": {
    "colab": {
     "base_uri": "https://localhost:8080/",
     "height": 203
    },
    "executionInfo": {
     "elapsed": 949,
     "status": "ok",
     "timestamp": 1629086083782,
     "user": {
      "displayName": "Jangrae Lee",
      "photoUrl": "https://lh3.googleusercontent.com/a-/AOh14Gh1Pd8OuWJU2cv7uTt-fURrgvty7atx_Wtarmx0-A=s64",
      "userId": "08475661575434032088"
     },
     "user_tz": -540
    },
    "id": "hdZVEFVR1cLT",
    "outputId": "ae7a0acc-9a06-4300-a73e-7f95afeec17b"
   },
   "outputs": [
    {
     "data": {
      "image/png": "[encoded data removed]",
      "text/plain": [
       "<Figure size 640x480 with 1 Axes>"
      ]
     },
     "metadata": {},
     "output_type": "display_data"
    }
   ],
   "source": [
    "# 쿼리문\n",
    "sql = \"\"\"\n",
    "SELECT customer_name, customer_id, IF(gender='M', '남자', '여자') AS gender, \n",
    "       phone, city, register_date, point \n",
    "    FROM customer\n",
    "    WHERE point >=500000\n",
    "    ORDER BY customer_name ASC\n",
    "\"\"\"\n",
    "\n",
    "# 데이터프레임 만들기\n",
    "data = pd.read_sql(sql, con=mysql) \n",
    "\n",
    "# 확인\n",
    "data.head()\n",
    "\n",
    "\n",
    "import matplotlib.pyplot as plt\n",
    "plt.plot(data['point'])\n",
    "plt.show()"
   ]
  },
  {
   "cell_type": "markdown",
   "metadata": {},
   "source": [
    "**예제2) 집계 결과 가져오기**"
   ]
  },
  {
   "cell_type": "code",
   "execution_count": 15,
   "metadata": {},
   "outputs": [
    {
     "data": {
      "text/html": [
       "<div>\n",
       "<style scoped>\n",
       "    .dataframe tbody tr th:only-of-type {\n",
       "        vertical-align: middle;\n",
       "    }\n",
       "\n",
       "    .dataframe tbody tr th {\n",
       "        vertical-align: top;\n",
       "    }\n",
       "\n",
       "    .dataframe thead th {\n",
       "        text-align: right;\n",
       "    }\n",
       "</style>\n",
       "<table border=\"1\" class=\"dataframe\">\n",
       "  <thead>\n",
       "    <tr style=\"text-align: right;\">\n",
       "      <th></th>\n",
       "      <th>지역</th>\n",
       "      <th>포인트합</th>\n",
       "      <th>고객명</th>\n",
       "    </tr>\n",
       "  </thead>\n",
       "  <tbody>\n",
       "    <tr>\n",
       "      <th>0</th>\n",
       "      <td>서울</td>\n",
       "      <td>1629155.0</td>\n",
       "      <td>김대표,한 산</td>\n",
       "    </tr>\n",
       "    <tr>\n",
       "      <th>1</th>\n",
       "      <td>인천</td>\n",
       "      <td>1272625.0</td>\n",
       "      <td>김청사,오유식,이국가,이등교,이모형,이바다,이위태</td>\n",
       "    </tr>\n",
       "    <tr>\n",
       "      <th>2</th>\n",
       "      <td>부산</td>\n",
       "      <td>1147675.0</td>\n",
       "      <td>김굴비,남궁최고,이요가,최여신</td>\n",
       "    </tr>\n",
       "    <tr>\n",
       "      <th>3</th>\n",
       "      <td>수원</td>\n",
       "      <td>376230.0</td>\n",
       "      <td>김감찬,김초록,오대파,최횡재</td>\n",
       "    </tr>\n",
       "    <tr>\n",
       "      <th>4</th>\n",
       "      <td>광주</td>\n",
       "      <td>314800.0</td>\n",
       "      <td>박진지,양학사,최세기</td>\n",
       "    </tr>\n",
       "    <tr>\n",
       "      <th>5</th>\n",
       "      <td>강릉</td>\n",
       "      <td>160010.0</td>\n",
       "      <td>박마음,이어른,최 수영</td>\n",
       "    </tr>\n",
       "    <tr>\n",
       "      <th>6</th>\n",
       "      <td>대구</td>\n",
       "      <td>102760.0</td>\n",
       "      <td>이꿈날,환청자</td>\n",
       "    </tr>\n",
       "    <tr>\n",
       "      <th>7</th>\n",
       "      <td>경주</td>\n",
       "      <td>102620.0</td>\n",
       "      <td>오사또,이망원,최촌장,함거북</td>\n",
       "    </tr>\n",
       "    <tr>\n",
       "      <th>8</th>\n",
       "      <td>의정부</td>\n",
       "      <td>80345.0</td>\n",
       "      <td>김모듬,김요리</td>\n",
       "    </tr>\n",
       "    <tr>\n",
       "      <th>9</th>\n",
       "      <td>울산</td>\n",
       "      <td>46840.0</td>\n",
       "      <td>양나리</td>\n",
       "    </tr>\n",
       "  </tbody>\n",
       "</table>\n",
       "</div>"
      ],
      "text/plain": [
       "    지역       포인트합                          고객명\n",
       "0   서울  1629155.0                      김대표,한 산\n",
       "1   인천  1272625.0  김청사,오유식,이국가,이등교,이모형,이바다,이위태\n",
       "2   부산  1147675.0             김굴비,남궁최고,이요가,최여신\n",
       "3   수원   376230.0              김감찬,김초록,오대파,최횡재\n",
       "4   광주   314800.0                  박진지,양학사,최세기\n",
       "5   강릉   160010.0                 박마음,이어른,최 수영\n",
       "6   대구   102760.0                      이꿈날,환청자\n",
       "7   경주   102620.0              오사또,이망원,최촌장,함거북\n",
       "8  의정부    80345.0                      김모듬,김요리\n",
       "9   울산    46840.0                          양나리"
      ]
     },
     "execution_count": 15,
     "metadata": {},
     "output_type": "execute_result"
    }
   ],
   "source": [
    "# 쿼리문\n",
    "sql = \"\"\"\n",
    "SELECT city AS 지역, \n",
    "       SUM(point) AS 포인트합, \n",
    "       GROUP_CONCAT(customer_name ORDER BY customer_name ASC) AS 고객명 \n",
    "    FROM customer\n",
    "    WHERE YEAR(register_date) = 2021 AND point > 0\n",
    "    GROUP BY city\n",
    "    ORDER BY 포인트합 DESC\n",
    "\"\"\"\n",
    "\n",
    "# 데이터프레임 만들기\n",
    "data = pd.read_sql(sql, con=mysql) \n",
    "\n",
    "# 확인\n",
    "data.head(10)"
   ]
  },
  {
   "cell_type": "markdown",
   "metadata": {
    "id": "zPb7_mq4od5p"
   },
   "source": [
    "<center><img src='https://raw.githubusercontent.com/Jangrae/img/master/end.png' width=300/></center>"
   ]
  },
  {
   "cell_type": "code",
   "execution_count": null,
   "metadata": {},
   "outputs": [],
   "source": []
  }
 ],
 "metadata": {
  "colab": {
   "collapsed_sections": [],
   "name": "05 데이터베이스 연결.ipynb",
   "provenance": []
  },
  "kernelspec": {
   "display_name": "Python 3 (ipykernel)",
   "language": "python",
   "name": "python3"
  },
  "language_info": {
   "codemirror_mode": {
    "name": "ipython",
    "version": 3
   },
   "file_extension": ".py",
   "mimetype": "text/x-python",
   "name": "python",
   "nbconvert_exporter": "python",
   "pygments_lexer": "ipython3",
   "version": "3.12.4"
  }
 },
 "nbformat": 4,
 "nbformat_minor": 4
}
