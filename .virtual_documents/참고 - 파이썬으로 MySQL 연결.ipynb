








!pip install pymysql 





# !pip install cryptography





# 라이브러리 불러오기
import pymysql
import pandas as pd
from sqlalchemy import create_engine





# MySQL 연결
user = 'root'
password = 'aivle'
host = '127.0.0.1'
database = 'myshop2024'

connect_string = f'mysql+pymysql://{user}:{password}@{host}/{database}'
mysql = create_engine(connect_string)








# 쿼리문
sql = """
SELECT customer_name, customer_id, IF(gender='M', '남자', '여자') AS gender, 
       phone, city, register_date, point 
    FROM customer
    WHERE point >=500000
    ORDER BY customer_name ASC
"""

# 데이터프레임 만들기
data = pd.read_sql(sql, con=mysql) 

# 확인
data.head()


import matplotlib.pyplot as plt
plt.plot(data['point'])
plt.show()





# 쿼리문
sql = """
SELECT city AS 지역, 
       SUM(point) AS 포인트합, 
       GROUP_CONCAT(customer_name ORDER BY customer_name ASC) AS 고객명 
    FROM customer
    WHERE YEAR(register_date) = 2021 AND point > 0
    GROUP BY city
    ORDER BY 포인트합 DESC
"""

# 데이터프레임 만들기
data = pd.read_sql(sql, con=mysql) 

# 확인
data.head(10)


# 쿼리문
sql = """
SELECT * FROM 고객정보;
"""

# 데이터프레임 만들기
data = pd.read_sql(sql, con=mysql) 

# 확인
data.head(10)






